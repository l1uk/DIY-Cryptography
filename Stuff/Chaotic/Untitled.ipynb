{
 "cells": [
  {
   "cell_type": "code",
   "execution_count": 9,
   "id": "9bac5758",
   "metadata": {},
   "outputs": [
    {
     "data": {
      "text/html": [
       "\n",
       "    <div>\n",
       "    <p style=\"color:green\">Press <b>Ctrl+S</b> to save LifeViewer edits.</p>\n",
       "    <script>\n",
       "    var declaredListenerYet;\n",
       "    if (!declaredListenerYet) {\n",
       "        window.addEventListener('message',function(e) {\n",
       "            var key = e.message ? 'message' : 'data';\n",
       "            var data = e[key]\n",
       "            console.log(data)\n",
       "            if (data['rle']) {\n",
       "                var rle = data['rle'].replace(/\"/g, ''); // sanitise\n",
       "                var saveid = data['uuid'].replace(/\"/g, '');\n",
       "                IPython.notebook.kernel.execute('import lifelib; lifelib.registry.rewrite(\"\"\"' + saveid + '\"\"\", \"\"\"' + rle + '\"\"\")');\n",
       "            }\n",
       "        },false);\n",
       "        declaredListenerYet = true;\n",
       "    }\n",
       "    </script>\n",
       "    </div>\n",
       "    "
      ],
      "text/plain": [
       "<IPython.core.display.HTML object>"
      ]
     },
     "metadata": {},
     "output_type": "display_data"
    },
    {
     "data": {
      "text/html": [
       "\n",
       "        <iframe\n",
       "            width=\"512\"\n",
       "            height=\"512\"\n",
       "            src=\"data:text/html;base64,PGh0bWw+PGhlYWQ+PG1ldGEgbmFtZT0iTGlmZVZpZXdlciIgY29udGVudD0icmxlIGNvZGUiPjwvaGVhZD48Ym9keT48ZGl2IGNsYXNzPSJybGUiPjxkaXYgc3R5bGU9ImRpc3BsYXk6bm9uZTsiPjxjb2RlIGlkPSJjb2RlMiI+CiNDTEwgc3RhdGUtbnVtYmVyaW5nIGdvbGx5CnggPSAxNSwgeSA9IDcsIHJ1bGUgPSBCMy9TMjMKQTYkQS42QS42QSEKI0MgW1sgVEhFTUUgNiBHUklEIEdSSURNQUpPUiAwIF1dCiNDIFtbIFdJRFRIIDQ4MCBIRUlHSFQgNDgwIF1dCjwvY29kZT48L2Rpdj4KPGNhbnZhcyB3aWR0aD0iNDk2IiBoZWlnaHQ9IjQ5NiIgc3R5bGU9Im1hcmdpbi1sZWZ0OjFweDsiPjwvY2FudmFzPjwvZGl2Pgo8c2NyaXB0IHR5cGU9J3RleHQvamF2YXNjcmlwdCcgc3JjPSdodHRwczovL2dvbC5oYXRzeWEuY28udWsvanMvbHYtcGx1Z2luLmpzJz48L3NjcmlwdD4KPHNjcmlwdD4KdmFyIHRhcmdldE5vZGUgPSBkb2N1bWVudC5nZXRFbGVtZW50QnlJZCgnY29kZTInKTsKdmFyIGNvbmZpZyA9IHsgYXR0cmlidXRlczogdHJ1ZSwgY2hpbGRMaXN0OiB0cnVlLCBzdWJ0cmVlOiB0cnVlIH07CnZhciBjYWxsYmFjayA9IGZ1bmN0aW9uKG11dGF0aW9uc0xpc3QsIG9ic2VydmVyKSB7CiAgICBjb25zb2xlLmxvZygiRE9NIG11dGF0ZWQuIik7CiAgICBwYXJlbnQucG9zdE1lc3NhZ2UoeyBybGU6IHRhcmdldE5vZGUuaW5uZXJIVE1MLCB1dWlkOiAiMDMzNTVlNGQtMWNlNi00NTI0LTkyMDctMzU2ZmY3YTI1MDkwIiB9LCAiKiIpOwp9Owp2YXIgb2JzZXJ2ZXIgPSBuZXcgTXV0YXRpb25PYnNlcnZlcihjYWxsYmFjayk7Cm9ic2VydmVyLm9ic2VydmUodGFyZ2V0Tm9kZSwgY29uZmlnKTsKPC9zY3JpcHQ+PC9ib2R5PjwvaHRtbD4KCg==\"\n",
       "            frameborder=\"0\"\n",
       "            allowfullscreen\n",
       "        ></iframe>\n",
       "        "
      ],
      "text/plain": [
       "<IPython.lib.display.IFrame at 0x7fc925e6e970>"
      ]
     },
     "execution_count": 9,
     "metadata": {},
     "output_type": "execute_result"
    }
   ],
   "source": [
    "import lifelib as lf\n",
    "\n",
    "sess = lf.load_rules('b3s23')\n",
    "lt = sess.lifetree()\n",
    "new = lt.pattern('3o$3o$3o')\n",
    "cell = lt.pattern('bob')\n",
    "old = lt.pattern('4b6$ob6b6$ob6ob6o6b')\n",
    "old.lifelib('SavePatternRLE',old.ptr,'addio.txt','','')\n",
    "old.viewer()"
   ]
  }
 ],
 "metadata": {
  "kernelspec": {
   "display_name": "Python 3",
   "language": "python",
   "name": "python3"
  },
  "language_info": {
   "codemirror_mode": {
    "name": "ipython",
    "version": 3
   },
   "file_extension": ".py",
   "mimetype": "text/x-python",
   "name": "python",
   "nbconvert_exporter": "python",
   "pygments_lexer": "ipython3",
   "version": "3.8.8"
  }
 },
 "nbformat": 4,
 "nbformat_minor": 5
}
