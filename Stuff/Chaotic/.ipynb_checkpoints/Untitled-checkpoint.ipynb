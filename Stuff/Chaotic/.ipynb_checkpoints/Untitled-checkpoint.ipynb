{
 "cells": [
  {
   "cell_type": "code",
   "execution_count": 3,
   "id": "17e9ae09",
   "metadata": {},
   "outputs": [
    {
     "data": {
      "text/html": [
       "\n",
       "    <div>\n",
       "    <p style=\"color:green\">Press <b>Ctrl+S</b> to save LifeViewer edits.</p>\n",
       "    <script>\n",
       "    var declaredListenerYet;\n",
       "    if (!declaredListenerYet) {\n",
       "        window.addEventListener('message',function(e) {\n",
       "            var key = e.message ? 'message' : 'data';\n",
       "            var data = e[key]\n",
       "            console.log(data)\n",
       "            if (data['rle']) {\n",
       "                var rle = data['rle'].replace(/\"/g, ''); // sanitise\n",
       "                var saveid = data['uuid'].replace(/\"/g, '');\n",
       "                IPython.notebook.kernel.execute('import lifelib; lifelib.registry.rewrite(\"\"\"' + saveid + '\"\"\", \"\"\"' + rle + '\"\"\")');\n",
       "            }\n",
       "        },false);\n",
       "        declaredListenerYet = true;\n",
       "    }\n",
       "    </script>\n",
       "    </div>\n",
       "    "
      ],
      "text/plain": [
       "<IPython.core.display.HTML object>"
      ]
     },
     "metadata": {},
     "output_type": "display_data"
    },
    {
     "data": {
      "text/plain": [
       "0"
      ]
     },
     "execution_count": 3,
     "metadata": {},
     "output_type": "execute_result"
    }
   ],
   "source": [
    "import lifelib as lf\n",
    "\n",
    "sess = lf.load_rules('b3s23')\n",
    "lt = sess.lifetree()\n",
    "new = lt.pattern('3o$3o$3o')\n",
    "cell = lt.pattern('bob')\n",
    "old = lt.pattern('4b6ob6b6ob6ob6o6b')\n",
    "old.viewer()\n",
    "old.lifelib('SavePatternMC',old.ptr,'addio.txt','well','')\n"
   ]
  }
 ],
 "metadata": {
  "kernelspec": {
   "display_name": "Python 3",
   "language": "python",
   "name": "python3"
  },
  "language_info": {
   "codemirror_mode": {
    "name": "ipython",
    "version": 3
   },
   "file_extension": ".py",
   "mimetype": "text/x-python",
   "name": "python",
   "nbconvert_exporter": "python",
   "pygments_lexer": "ipython3",
   "version": "3.8.8"
  }
 },
 "nbformat": 4,
 "nbformat_minor": 5
}
